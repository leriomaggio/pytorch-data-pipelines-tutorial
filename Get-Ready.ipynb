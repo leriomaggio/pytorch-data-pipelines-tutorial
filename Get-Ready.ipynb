{
 "cells": [
  {
   "cell_type": "markdown",
   "id": "b2ca905f",
   "metadata": {},
   "source": [
    "# 1. Set up your Environment"
   ]
  },
  {
   "cell_type": "markdown",
   "id": "45d9726a",
   "metadata": {},
   "source": [
    "In this notebook you will find the few (and simple) steps that are required to setup and test the environment to run all the code\n",
    "provided in the tutorial."
   ]
  },
  {
   "cell_type": "markdown",
   "id": "a6763c01",
   "metadata": {},
   "source": [
    "The [repository](http://github.com/leriomaggio/ppml-pyconde) contains the files to recreate the Python virtual environment with all the required packages.\n",
    "\n",
    "[**Anaconda**](https://www.anaconda.com/products/distribution) Python Distribution is recommended, although any version of `Python 3.8+` should work fine.\n",
    "\n",
    "If that's not the case, or if you spot any error/mistake, please feel free to reach out directly to [me](mailto:valerio.maggio@bristol.ac.uk?subject=PPML%20PyConDE%20Issue), or to open an [Issue](http://github.com/leriomaggio/ppml-pyconde/issues) on the repository.\n",
    "\n",
    "Any feedback will be very much appreciated!\n",
    "\n",
    "Thank you! 🙏"
   ]
  },
  {
   "cell_type": "markdown",
   "id": "f1aab16f",
   "metadata": {},
   "source": [
    "### Set up the Environment"
   ]
  },
  {
   "cell_type": "markdown",
   "id": "6373dadd",
   "metadata": {},
   "source": [
    "To create the conda environment, please **open a Terminal** and run the following command:\n",
    "\n",
    "```bash\n",
    "conda env create -f environment.yml\n",
    "```\n"
   ]
  },
  {
   "cell_type": "markdown",
   "id": "35c0307d",
   "metadata": {},
   "source": [
    "The previous command, will create a new environmment named `torch`.\n",
    "\n",
    "\n",
    "If that completed successfully, all you need to do now is to **activate** the new environment:\n",
    "\n",
    "```bash\n",
    "conda activate torch\n",
    "```"
   ]
  },
  {
   "cell_type": "markdown",
   "id": "3264cba4",
   "metadata": {},
   "source": [
    "#### Using `pip`\n",
    "\n",
    "**Alternatively**, you could install all the required packages using `pip`:\n",
    "\n",
    "```bash\n",
    "\n",
    "pip install -f ppml_requirements.txt\n",
    "```"
   ]
  },
  {
   "cell_type": "markdown",
   "id": "5b335c07",
   "metadata": {},
   "source": [
    "### Well Done! 🎉"
   ]
  },
  {
   "cell_type": "markdown",
   "id": "1f85c0d1",
   "metadata": {},
   "source": [
    "If those steps above completed successfully, you should be ready to proceed with the rest of this notebook."
   ]
  },
  {
   "cell_type": "markdown",
   "id": "3a12cdea",
   "metadata": {},
   "source": [
    "# 2. Test your Environment"
   ]
  },
  {
   "cell_type": "markdown",
   "id": "00e4890b",
   "metadata": {},
   "source": [
    "⚠️ Please remember to **activate** the new `ppml` environment before running the following cells"
   ]
  },
  {
   "cell_type": "code",
   "execution_count": null,
   "id": "540745b0",
   "metadata": {},
   "outputs": [],
   "source": [
    "import numpy as np\n",
    "import sklearn as sk\n",
    "import torch as th\n",
    "import torchvision\n",
    "\n",
    "from matplotlib import pyplot as plt\n",
    "\n",
    "%matplotlib inline"
   ]
  }
 ],
 "metadata": {
  "kernelspec": {
   "display_name": "Python 3 (ipykernel)",
   "language": "python",
   "name": "python3"
  },
  "language_info": {
   "codemirror_mode": {
    "name": "ipython",
    "version": 3
   },
   "file_extension": ".py",
   "mimetype": "text/x-python",
   "name": "python",
   "nbconvert_exporter": "python",
   "pygments_lexer": "ipython3",
   "version": "3.10.6"
  }
 },
 "nbformat": 4,
 "nbformat_minor": 5
}
